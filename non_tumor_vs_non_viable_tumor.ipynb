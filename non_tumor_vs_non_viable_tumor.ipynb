{
  "nbformat": 4,
  "nbformat_minor": 0,
  "metadata": {
    "colab": {
      "name": "non-tumor_vs_non-viable-tumor.ipynb",
      "provenance": [],
      "authorship_tag": "ABX9TyPmnFzXT712gak9tnxfDReN",
      "include_colab_link": true
    },
    "kernelspec": {
      "name": "python3",
      "display_name": "Python 3"
    },
    "language_info": {
      "name": "python"
    }
  },
  "cells": [
    {
      "cell_type": "markdown",
      "metadata": {
        "id": "view-in-github",
        "colab_type": "text"
      },
      "source": [
        "<a href=\"https://colab.research.google.com/github/trach99/project/blob/main/non_tumor_vs_non_viable_tumor.ipynb\" target=\"_parent\"><img src=\"https://colab.research.google.com/assets/colab-badge.svg\" alt=\"Open In Colab\"/></a>"
      ]
    },
    {
      "cell_type": "code",
      "metadata": {
        "id": "UQmeHx9AG_FK"
      },
      "source": [
        "%matplotlib inline"
      ],
      "execution_count": 1,
      "outputs": []
    },
    {
      "cell_type": "code",
      "metadata": {
        "id": "3_g7YkKuQzbu"
      },
      "source": [
        "import time\n",
        "import random\n",
        "import numpy as np\n",
        "import pandas as pd\n",
        "import seaborn as sns\n",
        "import matplotlib.pyplot as plt\n",
        "from sklearn.metrics import roc_curve, auc\n",
        "from sklearn.metrics import confusion_matrix\n",
        "from sklearn.metrics import classification_report\n",
        "from sklearn.model_selection import KFold, cross_val_score\n",
        "from sklearn.model_selection import train_test_split, GridSearchCV\n",
        "from sklearn.metrics import confusion_matrix\n",
        "from sklearn.ensemble import RandomForestClassifier\n",
        "from sklearn.utils.validation import check_is_fitted\n",
        "from sklearn.exceptions import NotFittedError\n",
        "from urllib.request import urlopen "
      ],
      "execution_count": 2,
      "outputs": []
    },
    {
      "cell_type": "code",
      "metadata": {
        "id": "rmttXMWVQ283"
      },
      "source": [
        "plt.style.use('ggplot')\n",
        "pd.set_option('display.max_columns', 500) "
      ],
      "execution_count": 3,
      "outputs": []
    },
    {
      "cell_type": "code",
      "metadata": {
        "id": "__l-gfpcQ6Xa"
      },
      "source": [
        "from google.colab import files\n",
        "uploaded = files.upload()"
      ],
      "execution_count": null,
      "outputs": []
    },
    {
      "cell_type": "code",
      "metadata": {
        "id": "omDGECkOru5C"
      },
      "source": [
        "breast_cancer = pd.read_csv('Non-Tumor_vs_Non-Viable-Tumor.csv')\n",
        "#breast_cancer.set_index(['image.name'], inplace = True)\n",
        "breast_cancer.drop('image.name',axis='columns', inplace=True)\n",
        "breast_cancer['classification'] = breast_cancer['classification'].map({'NT':1, 'NVT':0})\n",
        "breast_cancer.head(10)"
      ],
      "execution_count": null,
      "outputs": []
    },
    {
      "cell_type": "code",
      "metadata": {
        "colab": {
          "base_uri": "https://localhost:8080/"
        },
        "id": "vMiP2WyeucmY",
        "outputId": "6c034424-648a-4085-81a9-139853bc7ee7"
      },
      "source": [
        "breast_cancer.apply(lambda x: x.isnull().values.ravel().sum())"
      ],
      "execution_count": 23,
      "outputs": [
        {
          "output_type": "execute_result",
          "data": {
            "text/plain": [
              "Blue.count        0\n",
              "red.count         0\n",
              "total.clusters    0\n",
              "area              0\n",
              "circularity       0\n",
              "Count_Nuclei      0\n",
              "classification    0\n",
              "dtype: int64"
            ]
          },
          "metadata": {},
          "execution_count": 23
        }
      ]
    },
    {
      "cell_type": "code",
      "metadata": {
        "colab": {
          "base_uri": "https://localhost:8080/"
        },
        "id": "5kP5B5brvh2r",
        "outputId": "a00704ea-080e-400a-98f9-cbe16642a7cf"
      },
      "source": [
        "print(\"Here's the dimensions of our data frame:\\n\", \n",
        "     breast_cancer.shape)\n",
        "print(\"Here's the data types of our columns:\\n\",\n",
        "     breast_cancer.dtypes)"
      ],
      "execution_count": 27,
      "outputs": [
        {
          "output_type": "stream",
          "name": "stdout",
          "text": [
            "Here's the dimensions of our data frame:\n",
            " (798, 7)\n",
            "Here's the data types of our columns:\n",
            " Blue.count          int64\n",
            "red.count           int64\n",
            "total.clusters      int64\n",
            "area              float64\n",
            "circularity       float64\n",
            "Count_Nuclei        int64\n",
            "classification      int64\n",
            "dtype: object\n"
          ]
        }
      ]
    },
    {
      "cell_type": "code",
      "metadata": {
        "id": "FbVrYaUnwGRc"
      },
      "source": [
        "feature_space = breast_cancer.iloc[:, breast_cancer.columns != 'classification']\n",
        "feature_class = breast_cancer.iloc[:, breast_cancer.columns == 'classification']\n",
        "\n",
        "\n",
        "training_set, test_set, class_set, test_class_set = train_test_split(feature_space,\n",
        "                                                                    feature_class,\n",
        "                                                                    test_size = 0.20, \n",
        "                                                                    random_state = 42)"
      ],
      "execution_count": 29,
      "outputs": []
    },
    {
      "cell_type": "code",
      "metadata": {
        "id": "vM183SDswp1K"
      },
      "source": [
        "class_set = class_set.values.ravel() \n",
        "test_class_set = test_class_set.values.ravel() "
      ],
      "execution_count": 30,
      "outputs": []
    },
    {
      "cell_type": "code",
      "metadata": {
        "id": "q4cDqIhCwv8Z"
      },
      "source": [
        "# Set the random state for reproducibility\n",
        "fit_rf = RandomForestClassifier(random_state=42)"
      ],
      "execution_count": 31,
      "outputs": []
    },
    {
      "cell_type": "code",
      "metadata": {
        "colab": {
          "base_uri": "https://localhost:8080/"
        },
        "id": "O-yY-TS3xD-h",
        "outputId": "7c0c8534-55e3-44d9-d4c8-5f3c6d57e341"
      },
      "source": [
        "np.random.seed(42)\n",
        "start = time.time()\n",
        "\n",
        "param_dist = {'max_depth': [2, 3, 4],\n",
        "              'bootstrap': [True, False],\n",
        "              'max_features': ['auto', 'sqrt', 'log2', None],\n",
        "              'criterion': ['gini', 'entropy']}\n",
        "\n",
        "cv_rf = GridSearchCV(fit_rf, cv = 10,\n",
        "                     param_grid=param_dist, \n",
        "                     n_jobs = 3)\n",
        "\n",
        "cv_rf.fit(training_set, class_set)\n",
        "print('Best Parameters using grid search: \\n', \n",
        "      cv_rf.best_params_)\n",
        "end = time.time()\n",
        "print('Time taken in grid search: {0: .2f}'.format(end - start))"
      ],
      "execution_count": 32,
      "outputs": [
        {
          "output_type": "stream",
          "name": "stdout",
          "text": [
            "Best Parameters using grid search: \n",
            " {'bootstrap': True, 'criterion': 'entropy', 'max_depth': 4, 'max_features': 'auto'}\n",
            "Time taken in grid search:  80.55\n"
          ]
        }
      ]
    },
    {
      "cell_type": "code",
      "metadata": {
        "colab": {
          "base_uri": "https://localhost:8080/"
        },
        "id": "WW-w9-tZyGvr",
        "outputId": "46a6d4ef-90b9-411a-9a26-fab2da6f69f9"
      },
      "source": [
        "# Set best parameters given by grid search \n",
        "fit_rf.set_params(criterion = 'entropy',\n",
        "                  max_features = 'auto', \n",
        "                  max_depth = 4)"
      ],
      "execution_count": 33,
      "outputs": [
        {
          "output_type": "execute_result",
          "data": {
            "text/plain": [
              "RandomForestClassifier(criterion='entropy', max_depth=4, random_state=42)"
            ]
          },
          "metadata": {},
          "execution_count": 33
        }
      ]
    },
    {
      "cell_type": "code",
      "metadata": {
        "colab": {
          "base_uri": "https://localhost:8080/"
        },
        "id": "xrmId6FOykVi",
        "outputId": "7a6546ba-bc5f-461a-855a-fb271274e143"
      },
      "source": [
        "RandomForestClassifier(bootstrap=True, class_weight=None, criterion='entropy',\n",
        "            max_depth=4, max_features='auto', max_leaf_nodes=None, min_samples_leaf=1,\n",
        "            min_samples_split=2, min_weight_fraction_leaf=0.0,\n",
        "            n_estimators=10, n_jobs=1, oob_score=False, random_state=42,\n",
        "            verbose=0, warm_start=False)"
      ],
      "execution_count": 38,
      "outputs": [
        {
          "output_type": "execute_result",
          "data": {
            "text/plain": [
              "RandomForestClassifier(criterion='entropy', max_depth=4, n_estimators=10,\n",
              "                       n_jobs=1, random_state=42)"
            ]
          },
          "metadata": {},
          "execution_count": 38
        }
      ]
    },
    {
      "cell_type": "code",
      "metadata": {
        "id": "nxqJBHUn1EiK"
      },
      "source": [
        "fit_rf.set_params(warm_start=True, \n",
        "                  oob_score=True)\n",
        "\n",
        "min_estimators = 15\n",
        "max_estimators = 1000\n",
        "\n",
        "error_rate = {}\n",
        "\n",
        "for i in range(min_estimators, max_estimators + 1):\n",
        "    fit_rf.set_params(n_estimators=i)\n",
        "    fit_rf.fit(training_set, class_set)\n",
        "\n",
        "    oob_error = 1 - fit_rf.oob_score_\n",
        "    error_rate[i] = oob_error"
      ],
      "execution_count": null,
      "outputs": []
    },
    {
      "cell_type": "code",
      "metadata": {
        "id": "S_MXAHgp2zvI"
      },
      "source": [
        "oob_series = pd.Series(error_rate)"
      ],
      "execution_count": 40,
      "outputs": []
    },
    {
      "cell_type": "code",
      "metadata": {
        "colab": {
          "base_uri": "https://localhost:8080/",
          "height": 660
        },
        "id": "THHVxB4B247t",
        "outputId": "3d2a5756-5ccf-4359-8cbc-16a62c7e3b41"
      },
      "source": [
        "fig, ax = plt.subplots(figsize=(10, 10))\n",
        "\n",
        "ax.set_facecolor('#fafafa')\n",
        "\n",
        "oob_series.plot(kind='line',\n",
        "                color = 'red')\n",
        "plt.axhline(0.11, \n",
        "            color='#875FDB',\n",
        "           linestyle='--')\n",
        "plt.axhline(0.125, \n",
        "            color='#875FDB',\n",
        "           linestyle='--')\n",
        "plt.xlabel('n_estimators')\n",
        "plt.ylabel('OOB Error Rate')\n",
        "plt.title('OOB Error Rate Across various Forest sizes \\n(From 15 to 1000 trees)')"
      ],
      "execution_count": 44,
      "outputs": [
        {
          "output_type": "execute_result",
          "data": {
            "text/plain": [
              "Text(0.5, 1.0, 'OOB Error Rate Across various Forest sizes \\n(From 15 to 1000 trees)')"
            ]
          },
          "metadata": {},
          "execution_count": 44
        },
        {
          "output_type": "display_data",
          "data": {
            "image/png": "[encoded data removed]",
            "text/plain": [
              "<Figure size 720x720 with 1 Axes>"
            ]
          },
          "metadata": {}
        }
      ]
    },
    {
      "cell_type": "code",
      "metadata": {
        "colab": {
          "base_uri": "https://localhost:8080/"
        },
        "id": "rfTH7p8c5zIP",
        "outputId": "df056cec-62b7-43c8-87d1-5909405c9d25"
      },
      "source": [
        "print('OOB Error rate for 175 trees is: {0:.5f}'.format(oob_series[175]))"
      ],
      "execution_count": 46,
      "outputs": [
        {
          "output_type": "stream",
          "name": "stdout",
          "text": [
            "OOB Error rate for 175 trees is: 0.10815\n"
          ]
        }
      ]
    },
    {
      "cell_type": "code",
      "metadata": {
        "colab": {
          "base_uri": "https://localhost:8080/"
        },
        "id": "esWeHzmt9NnW",
        "outputId": "5d6c7126-492b-4a63-a722-ad49c4ddb7ab"
      },
      "source": [
        "fit_rf.set_params(n_estimators=175,\n",
        "                  bootstrap = True,\n",
        "                  warm_start=False, \n",
        "                  oob_score=False)"
      ],
      "execution_count": 47,
      "outputs": [
        {
          "output_type": "execute_result",
          "data": {
            "text/plain": [
              "RandomForestClassifier(criterion='entropy', max_depth=4, n_estimators=175,\n",
              "                       random_state=42)"
            ]
          },
          "metadata": {},
          "execution_count": 47
        }
      ]
    },
    {
      "cell_type": "code",
      "metadata": {
        "colab": {
          "base_uri": "https://localhost:8080/"
        },
        "id": "BrpDmcyc9aeU",
        "outputId": "50feeaa2-874c-4ced-c246-e1ac015eea05"
      },
      "source": [
        "RandomForestClassifier(bootstrap=True, class_weight=None, criterion='entropy',\n",
        "            max_depth=4, max_features='auto', max_leaf_nodes=None, min_samples_leaf=1,\n",
        "            min_samples_split=2, min_weight_fraction_leaf=0.0,\n",
        "            n_estimators=175, n_jobs=1, oob_score=False, random_state=42,\n",
        "            verbose=0, warm_start=False)"
      ],
      "execution_count": 49,
      "outputs": [
        {
          "output_type": "execute_result",
          "data": {
            "text/plain": [
              "RandomForestClassifier(criterion='entropy', max_depth=4, n_estimators=175,\n",
              "                       n_jobs=1, random_state=42)"
            ]
          },
          "metadata": {},
          "execution_count": 49
        }
      ]
    },
    {
      "cell_type": "code",
      "metadata": {
        "colab": {
          "base_uri": "https://localhost:8080/"
        },
        "id": "kv5gZINx9qxb",
        "outputId": "03749f9b-e5c0-47b9-b36c-679a7da9d4d6"
      },
      "source": [
        "fit_rf.fit(training_set, class_set)"
      ],
      "execution_count": 50,
      "outputs": [
        {
          "output_type": "execute_result",
          "data": {
            "text/plain": [
              "RandomForestClassifier(criterion='entropy', max_depth=4, n_estimators=175,\n",
              "                       random_state=42)"
            ]
          },
          "metadata": {},
          "execution_count": 50
        }
      ]
    },
    {
      "cell_type": "code",
      "metadata": {
        "colab": {
          "base_uri": "https://localhost:8080/"
        },
        "id": "kRyJQRSq9ufO",
        "outputId": "ddd18e37-387b-409f-fab3-6198d227814f"
      },
      "source": [
        "RandomForestClassifier(bootstrap=True, class_weight=None, criterion='entropy',\n",
        "            max_depth=4, max_features='auto', max_leaf_nodes=None, min_samples_leaf=1,\n",
        "            min_samples_split=2, min_weight_fraction_leaf=0.0,\n",
        "            n_estimators=175, n_jobs=1, oob_score=False, random_state=42,\n",
        "            verbose=0, warm_start=False)"
      ],
      "execution_count": 51,
      "outputs": [
        {
          "output_type": "execute_result",
          "data": {
            "text/plain": [
              "RandomForestClassifier(criterion='entropy', max_depth=4, n_estimators=175,\n",
              "                       n_jobs=1, random_state=42)"
            ]
          },
          "metadata": {},
          "execution_count": 51
        }
      ]
    },
    {
      "cell_type": "code",
      "metadata": {
        "id": "XQfethRb-FwI"
      },
      "source": [
        "def variable_importance(fit):\n",
        "    \"\"\"\n",
        "    Purpose\n",
        "    ----------\n",
        "    Checks if model is fitted CART model then produces variable importance\n",
        "    and respective indices in dictionary.\n",
        "\n",
        "    Parameters\n",
        "    ----------\n",
        "    * fit:  Fitted model containing the attribute feature_importances_\n",
        "\n",
        "    Returns\n",
        "    ----------\n",
        "    Dictionary containing arrays with importance score and index of columns\n",
        "    ordered in descending order of importance.\n",
        "    \"\"\"\n",
        "    try:\n",
        "        if not hasattr(fit, 'fit'):\n",
        "            return print(\"'{0}' is not an instantiated model from scikit-learn\".format(fit)) \n",
        "        \n",
        "        # Captures whether the model has been trained\n",
        "        if not vars(fit)[\"estimators_\"]:\n",
        "            return print(\"Model does not appear to be trained.\")\n",
        "    except KeyError:\n",
        "        print(\"Model entered does not contain 'estimators_' attribute.\")\n",
        "\n",
        "    importances = fit.feature_importances_\n",
        "    indices = np.argsort(importances)[::-1]\n",
        "    return {'importance': importances,\n",
        "            'index': indices}"
      ],
      "execution_count": 52,
      "outputs": []
    },
    {
      "cell_type": "code",
      "metadata": {
        "id": "3TQuvA6c-Y0H"
      },
      "source": [
        "var_imp_rf = variable_importance(fit_rf)\n",
        "\n",
        "importances_rf = var_imp_rf['importance']\n",
        "\n",
        "indices_rf = var_imp_rf['index']"
      ],
      "execution_count": 53,
      "outputs": []
    },
    {
      "cell_type": "code",
      "metadata": {
        "id": "dKdjBMmS-eWu"
      },
      "source": [
        "def print_var_importance(importance, indices, name_index):\n",
        "    \"\"\"\n",
        "    Purpose\n",
        "    ----------\n",
        "    Prints dependent variable names ordered from largest to smallest\n",
        "    based on information gain for CART model.\n",
        "    Parameters\n",
        "    ----------\n",
        "    * importance: Array returned from feature_importances_ for CART\n",
        "                models organized by dataframe index\n",
        "    * indices: Organized index of dataframe from largest to smallest\n",
        "                based on feature_importances_\n",
        "    * name_index: Name of columns included in model\n",
        "\n",
        "    Returns\n",
        "    ----------\n",
        "    Prints feature importance in descending order\n",
        "    \"\"\"\n",
        "    print(\"Feature ranking:\")\n",
        "\n",
        "    for f in range(0, indices.shape[0]):\n",
        "        i = f\n",
        "        print(\"{0}. The feature '{1}' has a Mean Decrease in Impurity of {2:.5f}\"\n",
        "              .format(f + 1,\n",
        "                      names_index[indices[i]],\n",
        "                      importance[indices[f]]))"
      ],
      "execution_count": 54,
      "outputs": []
    },
    {
      "cell_type": "code",
      "metadata": {
        "id": "jlCCYYv6_fUP"
      },
      "source": [
        "names_index = ['Blue.count', 'red.count', \n",
        "'total.clusters', 'area', 'circularity', 'Count_Nuclei']"
      ],
      "execution_count": 56,
      "outputs": []
    },
    {
      "cell_type": "code",
      "metadata": {
        "colab": {
          "base_uri": "https://localhost:8080/"
        },
        "id": "bOuBA7id-iFM",
        "outputId": "5a9caaec-af10-4a62-92f6-865977f5035d"
      },
      "source": [
        "print_var_importance(importances_rf, indices_rf, names_index)"
      ],
      "execution_count": 57,
      "outputs": [
        {
          "output_type": "stream",
          "name": "stdout",
          "text": [
            "Feature ranking:\n",
            "1. The feature 'Count_Nuclei' has a Mean Decrease in Impurity of 0.52405\n",
            "2. The feature 'area' has a Mean Decrease in Impurity of 0.13953\n",
            "3. The feature 'total.clusters' has a Mean Decrease in Impurity of 0.12815\n",
            "4. The feature 'red.count' has a Mean Decrease in Impurity of 0.11854\n",
            "5. The feature 'circularity' has a Mean Decrease in Impurity of 0.05381\n",
            "6. The feature 'Blue.count' has a Mean Decrease in Impurity of 0.03592\n"
          ]
        }
      ]
    },
    {
      "cell_type": "code",
      "metadata": {
        "id": "1gZCPwFrA1Zq"
      },
      "source": [
        "def variable_importance_plot(importance, indices, name_index):\n",
        "    \"\"\"\n",
        "    Purpose\n",
        "    ----------\n",
        "    Prints bar chart detailing variable importance for CART model\n",
        "    NOTE: feature_space list was created because the bar chart\n",
        "    was transposed and index would be in incorrect order.\n",
        "\n",
        "    Parameters\n",
        "    ----------\n",
        "    * importance: Array returned from feature_importances_ for CART\n",
        "                models organized by dataframe index\n",
        "    * indices: Organized index of dataframe from largest to smallest\n",
        "                based on feature_importances_\n",
        "    * name_index: Name of columns included in model\n",
        "\n",
        "    Returns:\n",
        "    ----------\n",
        "    Returns variable importance plot in descending order\n",
        "    \"\"\"\n",
        "    index = np.arange(len(names_index))\n",
        "\n",
        "    importance_desc = sorted(importance)\n",
        "    feature_space = []\n",
        "    for i in range(indices.shape[0] - 1, -1, -1):\n",
        "        feature_space.append(names_index[indices[i]])\n",
        "\n",
        "    fig, ax = plt.subplots(figsize=(10, 10))\n",
        "\n",
        "    ax.set_facecolor('#fafafa')\n",
        "    plt.title('Feature importances for Random Forest Model\\\n",
        "    \\nBreast Cancer (Diagnostic)')\n",
        "    plt.barh(index,\n",
        "             importance_desc,\n",
        "             align=\"center\",\n",
        "             color = '#875FDB')\n",
        "    plt.yticks(index,\n",
        "               feature_space)\n",
        "\n",
        "    plt.ylim(-1, 5)\n",
        "    plt.xlim(0, max(importance_desc) + 0.01)\n",
        "    plt.xlabel('Mean Decrease in Impurity')\n",
        "    plt.ylabel('Feature')\n",
        "\n",
        "    plt.show()\n",
        "    plt.close()"
      ],
      "execution_count": 62,
      "outputs": []
    },
    {
      "cell_type": "code",
      "metadata": {
        "colab": {
          "base_uri": "https://localhost:8080/",
          "height": 642
        },
        "id": "pZfSQAZqA-GR",
        "outputId": "85934938-4dc2-4725-bb73-16f1f8572226"
      },
      "source": [
        "variable_importance_plot(importances_rf, indices_rf, names_index)"
      ],
      "execution_count": 63,
      "outputs": [
        {
          "output_type": "display_data",
          "data": {
            "image/png": "[encoded data removed]",
            "text/plain": [
              "<Figure size 720x720 with 1 Axes>"
            ]
          },
          "metadata": {}
        }
      ]
    },
    {
      "cell_type": "code",
      "metadata": {
        "id": "dOdolF4OBVY9"
      },
      "source": [
        "#k-fold cross validation\n",
        "def cross_val_metrics(fit, training_set, class_set, estimator, print_results = True):\n",
        "    \"\"\"\n",
        "    Purpose\n",
        "    ----------\n",
        "    Function helps automate cross validation processes while including \n",
        "    option to print metrics or store in variable\n",
        "    \n",
        "    Parameters\n",
        "    ----------\n",
        "    fit: Fitted model \n",
        "    training_set:  Data_frame containing 80% of original dataframe\n",
        "    class_set:     data_frame containing the respective target vaues \n",
        "                      for the training_set\n",
        "    print_results: Boolean, if true prints the metrics, else saves metrics as \n",
        "                      variables\n",
        "\n",
        "    Returns\n",
        "    ----------\n",
        "    scores.mean(): Float representing cross validation score\n",
        "    scores.std() / 2: Float representing the standard error (derived\n",
        "                from cross validation score's standard deviation)\n",
        "    \"\"\"\n",
        "    my_estimators = {\n",
        "    'rf': 'estimators_',\n",
        "    'nn': 'out_activation_',\n",
        "    'knn': '_fit_method'\n",
        "    }\n",
        "    try:\n",
        "        # Captures whether first parameter is a model\n",
        "        if not hasattr(fit, 'fit'):\n",
        "            return print(\"'{0}' is not an instantiated model from scikit-learn\".format(fit)) \n",
        "        \n",
        "        # Captures whether the model has been trained\n",
        "        if not vars(fit)[my_estimators[estimator]]:\n",
        "            return print(\"Model does not appear to be trained.\")\n",
        "        \n",
        "    except KeyError as e:\n",
        "        print(\"'{0}' does not correspond with the appropriate key inside the estimators dictionary. \\\n",
        "\\nPlease refer to function to check `my_estimators` dictionary.\".format(estimator))\n",
        "        raise\n",
        "    \n",
        "    n = KFold(n_splits=10)\n",
        "    scores = cross_val_score(fit, \n",
        "                         training_set, \n",
        "                         class_set, \n",
        "                         cv = n)\n",
        "    if print_results:\n",
        "        for i in range(0, len(scores)):\n",
        "            print(\"Cross validation run {0}: {1: 0.3f}\".format(i, scores[i]))\n",
        "        print(\"Accuracy: {0: 0.3f} (+/- {1: 0.3f})\"\\\n",
        "              .format(scores.mean(), scores.std() / 2))\n",
        "    else:\n",
        "        return scores.mean(), scores.std() / 2"
      ],
      "execution_count": 64,
      "outputs": []
    },
    {
      "cell_type": "code",
      "metadata": {
        "colab": {
          "base_uri": "https://localhost:8080/"
        },
        "id": "uYHipadbBe98",
        "outputId": "bae14b52-a4bc-42a6-d27b-8ca0ba985223"
      },
      "source": [
        "cross_val_metrics(fit_rf, \n",
        "                  training_set, \n",
        "                  class_set, \n",
        "                  'rf',\n",
        "                  print_results = True)"
      ],
      "execution_count": 65,
      "outputs": [
        {
          "output_type": "stream",
          "name": "stdout",
          "text": [
            "Cross validation run 0:  0.953\n",
            "Cross validation run 1:  0.875\n",
            "Cross validation run 2:  0.953\n",
            "Cross validation run 3:  0.906\n",
            "Cross validation run 4:  0.891\n",
            "Cross validation run 5:  0.922\n",
            "Cross validation run 6:  0.828\n",
            "Cross validation run 7:  0.938\n",
            "Cross validation run 8:  0.841\n",
            "Cross validation run 9:  0.810\n",
            "Accuracy:  0.892 (+/-  0.025)\n"
          ]
        }
      ]
    },
    {
      "cell_type": "code",
      "metadata": {
        "id": "2_T9xqVYBtyX"
      },
      "source": [
        "predictions_rf = fit_rf.predict(test_set)"
      ],
      "execution_count": 66,
      "outputs": []
    },
    {
      "cell_type": "code",
      "metadata": {
        "id": "Zdse2lI7BySZ"
      },
      "source": [
        "def create_conf_mat(test_class_set, predictions):\n",
        "    \"\"\"Function returns confusion matrix comparing two arrays\"\"\"\n",
        "    if (len(test_class_set.shape) != len(predictions.shape) == 1):\n",
        "        return print('Arrays entered are not 1-D.\\nPlease enter the correctly sized sets.')\n",
        "    elif (test_class_set.shape != predictions.shape):\n",
        "        return print('Number of values inside the Arrays are not equal to each other.\\nPlease make sure the array has the same number of instances.')\n",
        "    else:\n",
        "        # Set Metrics\n",
        "        test_crosstb_comp = pd.crosstab(index = test_class_set,\n",
        "                                        columns = predictions)\n",
        "        test_crosstb = test_crosstb_comp.values\n",
        "        return test_crosstb"
      ],
      "execution_count": 69,
      "outputs": []
    },
    {
      "cell_type": "code",
      "metadata": {
        "colab": {
          "base_uri": "https://localhost:8080/",
          "height": 299
        },
        "id": "a7ahbSquCD5k",
        "outputId": "de99a987-a19f-4cdc-97ed-7a6f9e15ba84"
      },
      "source": [
        "conf_mat = create_conf_mat(test_class_set, predictions_rf)\n",
        "sns.heatmap(conf_mat, annot=True, fmt='d', cbar=False)\n",
        "plt.xlabel('Predicted Values')\n",
        "plt.ylabel('Actual Values')\n",
        "plt.title('Actual vs. Predicted Confusion Matrix')\n",
        "plt.show()"
      ],
      "execution_count": 70,
      "outputs": [
        {
          "output_type": "display_data",
          "data": {
            "image/png": "[encoded data removed]",
            "text/plain": [
              "<Figure size 432x288 with 1 Axes>"
            ]
          },
          "metadata": {}
        }
      ]
    },
    {
      "cell_type": "code",
      "metadata": {
        "colab": {
          "base_uri": "https://localhost:8080/"
        },
        "id": "3XsCv-5xCqx6",
        "outputId": "e792e308-6c27-4961-f90a-803d5a858268"
      },
      "source": [
        "accuracy_rf = fit_rf.score(test_set, test_class_set)\n",
        "\n",
        "print(\"Here is our mean accuracy on the test set:\\n {0:.3f}\"\\\n",
        "      .format(accuracy_rf))"
      ],
      "execution_count": 71,
      "outputs": [
        {
          "output_type": "stream",
          "name": "stdout",
          "text": [
            "Here is our mean accuracy on the test set:\n",
            " 0.900\n"
          ]
        }
      ]
    },
    {
      "cell_type": "code",
      "metadata": {
        "colab": {
          "base_uri": "https://localhost:8080/"
        },
        "id": "Y0RbhweLCyq1",
        "outputId": "d2edc903-33f9-469f-c125-a419ef7c3a4e"
      },
      "source": [
        "test_error_rate_rf = 1 - accuracy_rf\n",
        "print(\"The test error rate for our model is:\\n {0: .4f}\"\\\n",
        "      .format(test_error_rate_rf))"
      ],
      "execution_count": 72,
      "outputs": [
        {
          "output_type": "stream",
          "name": "stdout",
          "text": [
            "The test error rate for our model is:\n",
            "  0.1000\n"
          ]
        }
      ]
    },
    {
      "cell_type": "code",
      "metadata": {
        "id": "80g61bsWC5oR"
      },
      "source": [
        "# We grab the second array from the output which corresponds to\n",
        "# to the predicted probabilites of positive classes \n",
        "# Ordered wrt fit.classes_ in our case [0, 1] where 1 is our positive class\n",
        "predictions_prob = fit_rf.predict_proba(test_set)[:, 1]\n",
        "\n",
        "fpr2, tpr2, _ = roc_curve(test_class_set,\n",
        "                          predictions_prob,\n",
        "                          pos_label = 1)"
      ],
      "execution_count": 73,
      "outputs": []
    },
    {
      "cell_type": "code",
      "metadata": {
        "id": "LwBYHdbHC-BW"
      },
      "source": [
        "auc_rf = auc(fpr2, tpr2)"
      ],
      "execution_count": 74,
      "outputs": []
    },
    {
      "cell_type": "code",
      "metadata": {
        "id": "Wjpxe3uTDGDh"
      },
      "source": [
        "def plot_roc_curve(fpr, tpr, auc, estimator, xlim=None, ylim=None):\n",
        "    \"\"\"\n",
        "    Purpose\n",
        "    ----------\n",
        "    Function creates ROC Curve for respective model given selected parameters.\n",
        "    Optional x and y limits to zoom into graph\n",
        "\n",
        "    Parameters\n",
        "    ----------\n",
        "    * fpr: Array returned from sklearn.metrics.roc_curve for increasing\n",
        "            false positive rates\n",
        "    * tpr: Array returned from sklearn.metrics.roc_curve for increasing\n",
        "            true positive rates\n",
        "    * auc: Float returned from sklearn.metrics.auc (Area under Curve)\n",
        "    * estimator: String represenation of appropriate model, can only contain the\n",
        "    following: ['knn', 'rf', 'nn']\n",
        "    * xlim: Set upper and lower x-limits\n",
        "    * ylim: Set upper and lower y-limits\n",
        "    \"\"\"\n",
        "    my_estimators = {'knn': ['Kth Nearest Neighbor', 'deeppink'],\n",
        "              'rf': ['Random Forest', 'red'],\n",
        "              'nn': ['Neural Network', 'purple']}\n",
        "\n",
        "    try:\n",
        "        plot_title = my_estimators[estimator][0]\n",
        "        color_value = my_estimators[estimator][1]\n",
        "    except KeyError as e:\n",
        "        print(\"'{0}' does not correspond with the appropriate key inside the estimators dictionary. \\\n",
        "\\nPlease refer to function to check `my_estimators` dictionary.\".format(estimator))\n",
        "        raise\n",
        "\n",
        "    fig, ax = plt.subplots(figsize=(10, 10))\n",
        "    ax.set_facecolor('#fafafa')\n",
        "\n",
        "    plt.plot(fpr, tpr,\n",
        "             color=color_value,\n",
        "             linewidth=1)\n",
        "    plt.title('ROC Curve For {0} (AUC = {1: 0.3f})'\\\n",
        "              .format(plot_title, auc))\n",
        "\n",
        "    plt.plot([0, 1], [0, 1], 'k--', lw=2) # Add Diagonal line\n",
        "    plt.plot([0, 0], [1, 0], 'k--', lw=2, color = 'black')\n",
        "    plt.plot([1, 0], [1, 1], 'k--', lw=2, color = 'black')\n",
        "    if xlim is not None:\n",
        "        plt.xlim(*xlim)\n",
        "    if ylim is not None:\n",
        "        plt.ylim(*ylim)\n",
        "    plt.xlabel('False Positive Rate')\n",
        "    plt.ylabel('True Positive Rate')\n",
        "    plt.show()\n",
        "    plt.close()"
      ],
      "execution_count": 77,
      "outputs": []
    },
    {
      "cell_type": "code",
      "metadata": {
        "colab": {
          "base_uri": "https://localhost:8080/",
          "height": 626
        },
        "id": "V5EfmJxvDQ33",
        "outputId": "06b8c975-fd25-4577-8b27-dc9ca7d478ef"
      },
      "source": [
        "plot_roc_curve(fpr2, tpr2, auc_rf, 'rf',\n",
        "               xlim=(-0.01, 1.05), \n",
        "               ylim=(0.001, 1.05))"
      ],
      "execution_count": 78,
      "outputs": [
        {
          "output_type": "display_data",
          "data": {
            "image/png": "[encoded data removed]",
            "text/plain": [
              "<Figure size 720x720 with 1 Axes>"
            ]
          },
          "metadata": {}
        }
      ]
    },
    {
      "cell_type": "code",
      "metadata": {
        "colab": {
          "base_uri": "https://localhost:8080/",
          "height": 626
        },
        "id": "NZjWP9u-DdP6",
        "outputId": "db15b261-038f-4c06-fa9b-2dab988ba8aa"
      },
      "source": [
        "plot_roc_curve(fpr2, tpr2, auc_rf, 'rf', \n",
        "               xlim=(-0.01, 0.2), \n",
        "               ylim=(0.85, 1.01))"
      ],
      "execution_count": 79,
      "outputs": [
        {
          "output_type": "display_data",
          "data": {
            "image/png": "[encoded data removed]",
            "text/plain": [
              "<Figure size 720x720 with 1 Axes>"
            ]
          },
          "metadata": {}
        }
      ]
    },
    {
      "cell_type": "code",
      "metadata": {
        "id": "J70gLbN9Dv-H"
      },
      "source": [
        "dx = ['NT', 'NVT']"
      ],
      "execution_count": 82,
      "outputs": []
    },
    {
      "cell_type": "code",
      "metadata": {
        "id": "RlyFH4aXDi67"
      },
      "source": [
        "def print_class_report(predictions, alg_name):\n",
        "    \"\"\"\n",
        "    Purpose\n",
        "    ----------\n",
        "    Function helps automate the report generated by the\n",
        "    sklearn package. Useful for multiple model comparison\n",
        "\n",
        "    Parameters:\n",
        "    ----------\n",
        "    predictions: The predictions made by the algorithm used\n",
        "    alg_name: String containing the name of the algorithm used\n",
        "    \n",
        "    Returns:\n",
        "    ----------\n",
        "    Returns classification report generated from sklearn. \n",
        "    \"\"\"\n",
        "    print('Classification Report for {0}:'.format(alg_name))\n",
        "    print(classification_report(predictions, \n",
        "            test_class_set, \n",
        "            target_names = dx))"
      ],
      "execution_count": 83,
      "outputs": []
    },
    {
      "cell_type": "code",
      "metadata": {
        "colab": {
          "base_uri": "https://localhost:8080/"
        },
        "id": "lptKw6viDmPv",
        "outputId": "3252e9db-7b0e-439d-cc84-1da89127f21c"
      },
      "source": [
        "class_report = print_class_report(predictions_rf, 'Random Forest')"
      ],
      "execution_count": 84,
      "outputs": [
        {
          "output_type": "stream",
          "name": "stdout",
          "text": [
            "Classification Report for Random Forest:\n",
            "              precision    recall  f1-score   support\n",
            "\n",
            "          NT       0.87      0.83      0.85        54\n",
            "         NVT       0.92      0.93      0.93       106\n",
            "\n",
            "    accuracy                           0.90       160\n",
            "   macro avg       0.89      0.88      0.89       160\n",
            "weighted avg       0.90      0.90      0.90       160\n",
            "\n"
          ]
        }
      ]
    }
  ]
}